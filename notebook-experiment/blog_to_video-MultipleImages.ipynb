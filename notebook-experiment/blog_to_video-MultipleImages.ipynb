{
 "cells": [
  {
   "cell_type": "code",
   "execution_count": 1,
   "id": "2908ca30-2f1a-4a6d-9ad3-40eb9be92b5f",
   "metadata": {},
   "outputs": [],
   "source": [
    "import boto3\n",
    "import json\n",
    "import base64\n",
    "import io\n",
    "from docx import Document\n",
    "from PIL import Image\n",
    "from IPython.display import Video\n",
    "from moviepy.editor import ImageClip, TextClip, CompositeVideoClip, concatenate_videoclips"
   ]
  },
  {
   "cell_type": "code",
   "execution_count": 2,
   "id": "919b41c8-bdfc-4940-9c59-b7a579751bc1",
   "metadata": {},
   "outputs": [
    {
     "name": "stdout",
     "output_type": "stream",
     "text": [
      "Summary:\n"
     ]
    }
   ],
   "source": [
    "bedrock = boto3.client('bedrock-runtime', region_name='us-east-1')\n",
    "\n",
    "docx_file_path = 'holiday_blog.docx'\n",
    "text = \"\"\n",
    "\n",
    "doc = Document(docx_file_path)\n",
    "for paragraph in doc.paragraphs:\n",
    "    text += paragraph.text + \"\\n\"\n",
    "\n",
    "model_id = 'ai21.j2-ultra-v1'\n",
    "\n",
    "response = bedrock.invoke_model(\n",
    "    modelId=model_id,\n",
    "    body=json.dumps({\n",
    "        \"prompt\": f\"Summarize the following text: {text}\",\n",
    "        \"maxTokens\": 100\n",
    "    }),\n",
    "    contentType=\"application/json\"\n",
    ")\n",
    "\n",
    "response_body = response['body'].read().decode('utf-8')\n",
    "response_json = json.loads(response_body)\n",
    "\n",
    "summary_result = response_json['completions'][0]['data']\n",
    "summary = summary_result['text']\n",
    "print(\"Summary:\", summary)"
   ]
  },
  {
   "cell_type": "code",
   "execution_count": 3,
   "id": "bc550eaa-8e42-4143-ad1d-8b3636adb256",
   "metadata": {},
   "outputs": [
    {
     "name": "stdout",
     "output_type": "stream",
     "text": [
      "Generated images:\n"
     ]
    }
   ],
   "source": [
    "text_segments = summary.strip().split('. ')\n",
    "\n",
    "model_id = 'stability.stable-diffusion-xl-v1'\n",
    "\n",
    "generated_images = []\n",
    "for i, segment in enumerate(text_segments):\n",
    "    response = bedrock.invoke_model(\n",
    "        modelId=model_id,\n",
    "        body=json.dumps({\n",
    "            \"text_prompts\": [{\"text\": segment}],\n",
    "            \"cfg_scale\": 7,\n",
    "            \"steps\": 50,\n",
    "            \"seed\": 0\n",
    "        }),\n",
    "        contentType=\"application/json\"\n",
    "    )\n",
    "    \n",
    "    response_body = response['body'].read().decode('utf-8')\n",
    "    response_json = json.loads(response_body)\n",
    "    \n",
    "    image_data = response_json['artifacts'][0]['base64'] \n",
    "    \n",
    "    image_bytes = io.BytesIO(base64.b64decode(image_data))\n",
    "    img = Image.open(image_bytes)\n",
    "    \n",
    "    img.save(f'generated_image_{i}.png')\n",
    "    generated_images.append(f'generated_image_{i}.png')\n",
    "\n",
    "print(\"Generated images:\", generated_images)\n",
    "folder_path = \"/Users/ima/Documents/project/aipoint_tutorials/image_*.png\" "
   ]
  },
  {
   "cell_type": "code",
   "execution_count": 6,
   "id": "1047b0a4-0dee-4a92-a8f4-142168489ccb",
   "metadata": {},
   "outputs": [
    {
     "name": "stdout",
     "output_type": "stream",
     "text": [
      "Found 5 images.\n",
      "Moviepy - Building video output_video_with_audio.mp4.\n",
      "MoviePy - Writing audio in output_video_with_audioTEMP_MPY_wvf_snd.mp3\n"
     ]
    },
    {
     "name": "stderr",
     "output_type": "stream",
     "text": [
      "                                                                                                                                                                              \r"
     ]
    },
    {
     "name": "stdout",
     "output_type": "stream",
     "text": [
      "MoviePy - Done.\n",
      "Moviepy - Writing video output_video_with_audio.mp4\n",
      "\n"
     ]
    },
    {
     "name": "stderr",
     "output_type": "stream",
     "text": [
      "                                                                                                                                                                              \r"
     ]
    },
    {
     "name": "stdout",
     "output_type": "stream",
     "text": [
      "Moviepy - Done !\n",
      "Moviepy - video ready output_video_with_audio.mp4\n"
     ]
    }
   ],
   "source": [
    "import glob\n",
    "from PIL import Image\n",
    "import numpy as np\n",
    "from moviepy.editor import ImageClip, concatenate_videoclips, AudioFileClip\n",
    "\n",
    "# Adjust this to the full path of the folder containing your images\n",
    "folder_path = \"/Users/ima/Documents/project/aipoint_tutorials/image_*.png\" \n",
    "audio_path = \"/Users/ima/Documents/project/aipoint_tutorials/audio.mp3\"  # Path to your audio file\n",
    "\n",
    "# Read and collect multiple images\n",
    "images = []\n",
    "file_paths = glob.glob(folder_path)\n",
    "\n",
    "# Check if file paths were found\n",
    "if not file_paths:\n",
    "    print(\"No images found. Check your folder path and file pattern.\")\n",
    "else:\n",
    "    print(f\"Found {len(file_paths)} images.\")\n",
    "\n",
    "for file_path in file_paths:\n",
    "    image = Image.open(file_path)\n",
    "    images.append(np.array(image))  # Convert PIL image to NumPy array\n",
    "\n",
    "# Create clips if images are loaded\n",
    "if images:\n",
    "    clips = [ImageClip(img).set_duration(6) for img in images]\n",
    "    video = concatenate_videoclips(clips)\n",
    "\n",
    "    # Load the audio file and set it to the video\n",
    "    audio = AudioFileClip(audio_path)\n",
    "    video = video.set_audio(audio)\n",
    "\n",
    "    # Save the final video with audio\n",
    "    video.write_videofile(\"output_video_with_audio.mp4\", fps=24)\n",
    "else:\n",
    "    print(\"No images to process.\")\n"
   ]
  },
  {
   "cell_type": "code",
   "execution_count": 7,
   "id": "c255613f-b5d5-4cfb-84ed-dac81c89f1fc",
   "metadata": {},
   "outputs": [
    {
     "ename": "NameError",
     "evalue": "name 'Video' is not defined",
     "output_type": "error",
     "traceback": [
      "\u001b[0;31m---------------------------------------------------------------------------\u001b[0m",
      "\u001b[0;31mNameError\u001b[0m                                 Traceback (most recent call last)",
      "Cell \u001b[0;32mIn[7], line 1\u001b[0m\n\u001b[0;32m----> 1\u001b[0m \u001b[43mVideo\u001b[49m(\u001b[38;5;124m\"\u001b[39m\u001b[38;5;124moutput_video_with_audio.mp4\u001b[39m\u001b[38;5;124m\"\u001b[39m, embed\u001b[38;5;241m=\u001b[39m\u001b[38;5;28;01mTrue\u001b[39;00m)\n",
      "\u001b[0;31mNameError\u001b[0m: name 'Video' is not defined"
     ]
    }
   ],
   "source": [
    "Video(\"output_video_with_audio.mp4\", embed=True)\n"
   ]
  },
  {
   "cell_type": "code",
   "execution_count": null,
   "id": "d4d51edc-4b22-406d-81ca-c2659eb96a85",
   "metadata": {},
   "outputs": [],
   "source": []
  },
  {
   "cell_type": "code",
   "execution_count": null,
   "id": "57dfa4a1-fee4-4477-a6cd-3ca1b620ed40",
   "metadata": {},
   "outputs": [],
   "source": []
  }
 ],
 "metadata": {
  "kernelspec": {
   "display_name": "Python 3 (ipykernel)",
   "language": "python",
   "name": "python3"
  },
  "language_info": {
   "codemirror_mode": {
    "name": "ipython",
    "version": 3
   },
   "file_extension": ".py",
   "mimetype": "text/x-python",
   "name": "python",
   "nbconvert_exporter": "python",
   "pygments_lexer": "ipython3",
   "version": "3.11.10"
  }
 },
 "nbformat": 4,
 "nbformat_minor": 5
}
